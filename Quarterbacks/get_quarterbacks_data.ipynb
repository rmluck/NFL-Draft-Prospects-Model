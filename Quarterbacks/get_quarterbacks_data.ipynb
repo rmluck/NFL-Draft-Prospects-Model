{
 "cells": [
  {
   "cell_type": "code",
   "execution_count": 2,
   "metadata": {},
   "outputs": [],
   "source": [
    "import pandas as pd"
   ]
  },
  {
   "cell_type": "code",
   "execution_count": 58,
   "metadata": {},
   "outputs": [],
   "source": [
    "qbs = [\"Jameis Winston\", \"Marcus Mariota\", \"Garrett Grayson\", \"Sean Mannion\", \"Bryce Petty\", \"Brett Hundley\", \"Trevor Siemian\"]\n",
    "\n",
    "df1 = pd.read_csv(\"quarterbacks.csv\")\n",
    "df1 = df1[df1[\"Player\"].isin(qbs)]\n",
    "df1 = df1.iloc[:, 0:32]\n",
    "\n",
    "df2 = pd.read_csv(\"passing_summary.csv\")\n",
    "df2 = df2.rename(columns={\"player\": \"Player\"})\n",
    "df2 = df2[df2[\"Player\"].isin(qbs)]\n",
    "df2 = df2.drop([\"player_id\", \"position\", \"team_name\"], axis=1)\n",
    "\n",
    "df = pd.merge(df1, df2, on=\"Player\")\n",
    "\n",
    "df3 = pd.read_csv(\"passing_depth.csv\")\n",
    "df3 = df3.rename(columns={\"player\": \"Player\"})\n",
    "df3 = df3[df3[\"Player\"].isin(qbs)]\n",
    "df3 = df3.drop([\"player_id\", \"position\", \"team_name\", \"player_game_count\", \"base_attempts\", \"base_dropbacks\"], axis=1)\n",
    "\n",
    "df = pd.merge(df, df3, on=\"Player\")\n",
    "\n",
    "df4 = pd.read_csv(\"passing_pressure.csv\")\n",
    "df4 = df4.rename(columns={\"player\": \"Player\"})\n",
    "df4 = df4[df4[\"Player\"].isin(qbs)]\n",
    "df4 = df4.drop([\"player_id\", \"position\", \"team_name\", \"player_game_count\", \"base_dropbacks\"], axis=1)\n",
    "\n",
    "df = pd.merge(df, df4, on=\"Player\")\n",
    "\n",
    "df5 = pd.read_csv(\"passing_concept.csv\")\n",
    "df5 = df5.rename(columns={\"player\": \"Player\"})\n",
    "df5 = df5[df5[\"Player\"].isin(qbs)]\n",
    "df5 = df5.drop([\"player_id\", \"position\", \"team_name\", \"comp_pct_diff\", \"declined_penalties\", \"dropbacks\", \"franchise_id\", \"penalties\"], axis=1)\n",
    "\n",
    "df = pd.merge(df, df5, on=\"Player\")\n",
    "\n",
    "df6 = pd.read_csv(\"time_in_pocket.csv\")\n",
    "df6 = df6.rename(columns={\"player\": \"Player\"})\n",
    "df6 = df6[df6[\"Player\"].isin(qbs)]\n",
    "df6 = df6.drop([\"player_id\", \"position\", \"team_name\", \"player_game_count\", \"franchise_id\"], axis=1)\n",
    "\n",
    "df = pd.merge(df, df6, on=\"Player\")\n",
    "\n",
    "df7 = pd.read_csv(\"passing_allowed_pressure.csv\")\n",
    "df7 = df7.rename(columns={\"player\": \"Player\"})\n",
    "df7 = df7[df7[\"Player\"].isin(qbs)]\n",
    "df7 = df7.drop([\"player_id\", \"position\", \"team_name\", \"player_game_count\", \"penalties\", \"franchise_id\", \"declined_penalties\"], axis=1)\n",
    "\n",
    "df = pd.merge(df, df7, on=\"Player\")\n",
    "\n",
    "df8 = pd.read_csv(\"rushing_summary.csv\")\n",
    "df8 = df8.rename(columns={\"player\": \"Player\"})\n",
    "df8 = df8[df8[\"Player\"].isin(qbs)]\n",
    "df8 = df8.drop([\"player_id\", \"position\", \"team_name\", \"player_game_count\", \"penalties\", \"franchise_id\", \"declined_penalties\"], axis=1)\n",
    "\n",
    "df = pd.merge(df, df8, on=\"Player\")\n",
    "\n",
    "df.to_csv(\"qbs.csv\", mode=\"a\", header=False, index=False)"
   ]
  }
 ],
 "metadata": {
  "kernelspec": {
   "display_name": "Python 3",
   "language": "python",
   "name": "python3"
  },
  "language_info": {
   "codemirror_mode": {
    "name": "ipython",
    "version": 3
   },
   "file_extension": ".py",
   "mimetype": "text/x-python",
   "name": "python",
   "nbconvert_exporter": "python",
   "pygments_lexer": "ipython3",
   "version": "3.10.4"
  }
 },
 "nbformat": 4,
 "nbformat_minor": 2
}
