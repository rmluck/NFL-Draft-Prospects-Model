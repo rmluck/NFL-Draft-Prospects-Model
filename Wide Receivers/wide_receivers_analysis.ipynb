{
 "cells": [
  {
   "cell_type": "code",
   "execution_count": 1,
   "metadata": {},
   "outputs": [],
   "source": [
    "import pandas as pd\n",
    "import matplotlib.pyplot as plt\n",
    "from scipy.stats import norm\n",
    "import seaborn as sns\n",
    "from matplotlib.offsetbox import OffsetImage, AnnotationBbox\n",
    "import os\n",
    "from adjustText import adjust_text"
   ]
  },
  {
   "cell_type": "code",
   "execution_count": 2,
   "metadata": {},
   "outputs": [],
   "source": [
    "wrs = pd.read_csv(\"wide_receivers.csv\")\n",
    "wrs = wrs.drop(columns=[\"Position\"])"
   ]
  },
  {
   "cell_type": "code",
   "execution_count": null,
   "metadata": {},
   "outputs": [],
   "source": [
    "color_mapping = {\n",
    "    5: \"darkgreen\",\n",
    "    4: \"green\",\n",
    "    3: \"lightgreen\",\n",
    "    2: \"yellow\",\n",
    "    1: \"gray\",\n",
    "    0: \"lightgray\"\n",
    "}\n",
    "\n",
    "plt.figure(figsize=(8, 6))\n",
    "for rating, color in color_mapping.items():\n",
    "    subset = wrs[wrs[\"PROSPECT RATING\"] == rating]\n",
    "    plt.scatter(subset[\"Height\"], subset[\"Hand Size\"], color=color, label=f\"Prospect Rating {rating}\")\n",
    "\n",
    "plt.xlabel(\"Height\")\n",
    "plt.ylabel(\"Hand Size\")\n",
    "plt.title(\"WRs\")\n",
    "plt.grid(True)\n",
    "plt.show()"
   ]
  },
  {
   "cell_type": "code",
   "execution_count": null,
   "metadata": {},
   "outputs": [],
   "source": [
    "def load_image(image_path):\n",
    "    img = plt.imread(image_path)\n",
    "\n",
    "    return OffsetImage(img, zoom=0.20)\n",
    "\n",
    "wrs = pd.read_csv(\"wide_receivers.csv\")\n",
    "wrs = wrs[wrs[\"Drafted Round\"].isin([1, 2, 3])]\n",
    "wrs = wrs[wrs[\"Draft Class\"].isin([2023, 2022, 2021, 2020])]"
   ]
  }
 ],
 "metadata": {
  "kernelspec": {
   "display_name": "Python 3",
   "language": "python",
   "name": "python3"
  },
  "language_info": {
   "codemirror_mode": {
    "name": "ipython",
    "version": 3
   },
   "file_extension": ".py",
   "mimetype": "text/x-python",
   "name": "python",
   "nbconvert_exporter": "python",
   "pygments_lexer": "ipython3",
   "version": "3.10.4"
  }
 },
 "nbformat": 4,
 "nbformat_minor": 2
}
